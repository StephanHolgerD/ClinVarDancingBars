{
 "cells": [
  {
   "cell_type": "code",
   "execution_count": 1,
   "id": "fe2ea881",
   "metadata": {},
   "outputs": [],
   "source": [
    "import pandas as pd\n",
    "from ClinVarCharts.ClinVarExplorer.ExtractDB import ClinVarChunkerMultiList\n",
    "from time import time"
   ]
  },
  {
   "cell_type": "code",
   "execution_count": 2,
   "id": "3b618b7e",
   "metadata": {},
   "outputs": [],
   "source": [
    "clindwnld = '../ClinVarFullRelease_2023-03.xml'"
   ]
  },
  {
   "cell_type": "code",
   "execution_count": 3,
   "id": "cac5a7df",
   "metadata": {},
   "outputs": [],
   "source": [
    "xx = time()\n",
    "submiter,submitdate,submitterID,gene,evaluation,hgvs,variantid= ClinVarChunkerMultiList(clindwnld,10_00,4)\n",
    "\n",
    "duration = time()-xx"
   ]
  },
  {
   "cell_type": "code",
   "execution_count": 5,
   "id": "21ef3f68",
   "metadata": {},
   "outputs": [
    {
     "data": {
      "text/plain": [
       "93.79882944424948"
      ]
     },
     "execution_count": 5,
     "metadata": {},
     "output_type": "execute_result"
    }
   ],
   "source": [
    "duration/60"
   ]
  },
  {
   "cell_type": "code",
   "execution_count": 8,
   "id": "1fce4c6f",
   "metadata": {},
   "outputs": [],
   "source": [
    "dff = pd.DataFrame()\n",
    "dff['submitter']=submitter\n",
    "dff['submit date']=submitdate\n",
    "dff['institute']=submitterID\n",
    "dff['gene']=gene\n",
    "dff['evaluation']=evaluation\n",
    "dff['variantid'] = variantid\n",
    "dff['hgvs'] = hgvs\n",
    "dff.to_csv('ClinVar_2023-03.tsv',sep='\\t',index=False)"
   ]
  },
  {
   "cell_type": "code",
   "execution_count": null,
   "id": "ce462225",
   "metadata": {},
   "outputs": [],
   "source": []
  }
 ],
 "metadata": {
  "kernelspec": {
   "display_name": "Python 3 (ipykernel)",
   "language": "python",
   "name": "python3"
  },
  "language_info": {
   "codemirror_mode": {
    "name": "ipython",
    "version": 3
   },
   "file_extension": ".py",
   "mimetype": "text/x-python",
   "name": "python",
   "nbconvert_exporter": "python",
   "pygments_lexer": "ipython3",
   "version": "3.10.4"
  }
 },
 "nbformat": 4,
 "nbformat_minor": 5
}
